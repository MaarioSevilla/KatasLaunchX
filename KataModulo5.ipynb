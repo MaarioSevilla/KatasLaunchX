{
 "cells": [
  {
   "cell_type": "markdown",
   "metadata": {},
   "source": [
    "ejercicio 1"
   ]
  },
  {
   "cell_type": "code",
   "execution_count": 5,
   "metadata": {},
   "outputs": [
    {
     "name": "stdout",
     "output_type": "stream",
     "text": [
      "distancia de la tierra a jupiter: 628949330 km\n",
      "distancia de la tierra a jupiter: 390577533.93 mi\n"
     ]
    }
   ],
   "source": [
    "tierra = 149597870\n",
    "jupiter = 778547200\n",
    "\n",
    "distancia = jupiter - tierra\n",
    "\n",
    "print('distancia de la tierra a jupiter: '+str(distancia) +' km' )\n",
    "print('distancia de la tierra a jupiter: '+str(distancia*0.621) + ' mi')"
   ]
  },
  {
   "cell_type": "markdown",
   "metadata": {},
   "source": [
    "ejercicio 2"
   ]
  },
  {
   "cell_type": "code",
   "execution_count": 7,
   "metadata": {},
   "outputs": [],
   "source": [
    "planeta_one = input('introduce la distancia del primer planera en km')\n",
    "planeta_two = input('introduce la distancia del segundo planeta en km')\n",
    "\n",
    "planeta_one = int(planeta_one)\n",
    "planeta_two = int(planeta_two)\n",
    "\n",
    "distancia_km = planeta_two - planeta_one\n",
    "print('la distan entre los planetas es de:'+ str(distancia_km))\n",
    "\n",
    "distancia_mi = distancia_km * 0.621\n",
    "print('la distancia en millas es de:'+str(abs(distancia_mi)))"
   ]
  }
 ],
 "metadata": {
  "interpreter": {
   "hash": "285100b1667c6067fb28b956dfab906bfec4b8f5e9def93a5a1af4d58121e363"
  },
  "kernelspec": {
   "display_name": "Python 3.10.2 64-bit",
   "language": "python",
   "name": "python3"
  },
  "language_info": {
   "codemirror_mode": {
    "name": "ipython",
    "version": 3
   },
   "file_extension": ".py",
   "mimetype": "text/x-python",
   "name": "python",
   "nbconvert_exporter": "python",
   "pygments_lexer": "ipython3",
   "version": "3.10.2"
  },
  "orig_nbformat": 4
 },
 "nbformat": 4,
 "nbformat_minor": 2
}
