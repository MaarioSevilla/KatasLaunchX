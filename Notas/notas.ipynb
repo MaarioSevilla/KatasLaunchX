{
 "cells": [
  {
   "cell_type": "code",
   "execution_count": 1,
   "metadata": {},
   "outputs": [
    {
     "name": "stdout",
     "output_type": "stream",
     "text": [
      "que tal\n"
     ]
    }
   ],
   "source": [
    "hola='hola'\n",
    "hola='que tal'\n",
    "\n",
    "print(hola)"
   ]
  }
 ],
 "metadata": {
  "interpreter": {
   "hash": "285100b1667c6067fb28b956dfab906bfec4b8f5e9def93a5a1af4d58121e363"
  },
  "kernelspec": {
   "display_name": "Python 3.10.2 64-bit",
   "language": "python",
   "name": "python3"
  },
  "language_info": {
   "codemirror_mode": {
    "name": "ipython",
    "version": 3
   },
   "file_extension": ".py",
   "mimetype": "text/x-python",
   "name": "python",
   "nbconvert_exporter": "python",
   "pygments_lexer": "ipython3",
   "version": "3.10.2"
  },
  "orig_nbformat": 4
 },
 "nbformat": 4,
 "nbformat_minor": 2
}
