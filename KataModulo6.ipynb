{
 "cells": [
  {
   "cell_type": "markdown",
   "metadata": {},
   "source": [
    "Ejecicio 1\n"
   ]
  },
  {
   "cell_type": "code",
   "execution_count": 7,
   "metadata": {},
   "outputs": [
    {
     "name": "stdout",
     "output_type": "stream",
     "text": [
      "el numero de planetas es:7\n",
      "PlutonEs el ultimo planeta\n"
     ]
    }
   ],
   "source": [
    "planets = ['Mrecurio', 'Venus', 'Tierra', 'Marte', 'Jupiter', 'Saturno', 'Neptuno']\n",
    "\n",
    "print('el numero de planetas es:'+ str( len(planets)))\n",
    "\n",
    "planets.append('Pluton')\n",
    "\n",
    "print(planets[-1]+ 'Es el ultimo planeta')"
   ]
  },
  {
   "cell_type": "code",
   "execution_count": null,
   "metadata": {},
   "outputs": [],
   "source": [
    "planets = ['Mercury', 'Venus', 'Earth', 'Mars', 'Jupiter', 'Saturn', 'Neptune']\n",
    "\n",
    "planet_input = input('ingresa el nombre del planeta a buscar, la primera letra en mayusculas')\n",
    "\n",
    "planet_index = planets.index(planet_input)\n",
    "\n",
    "if(planet_index):\n",
    "    print('Los planetas mas cercanos al sol que ' + planet_index + 'son:')\n",
    "    print(planets[0:planet_index])\n",
    "\n",
    "    print('Los planetas mas lejanos al sol que ' + planet_index+ 'son:')\n",
    "    print(planets[planet_index + 1:])\n"
   ]
  }
 ],
 "metadata": {
  "interpreter": {
   "hash": "285100b1667c6067fb28b956dfab906bfec4b8f5e9def93a5a1af4d58121e363"
  },
  "kernelspec": {
   "display_name": "Python 3.10.2 64-bit",
   "language": "python",
   "name": "python3"
  },
  "language_info": {
   "codemirror_mode": {
    "name": "ipython",
    "version": 3
   },
   "file_extension": ".py",
   "mimetype": "text/x-python",
   "name": "python",
   "nbconvert_exporter": "python",
   "pygments_lexer": "ipython3",
   "version": "3.10.2"
  },
  "orig_nbformat": 4
 },
 "nbformat": 4,
 "nbformat_minor": 2
}
