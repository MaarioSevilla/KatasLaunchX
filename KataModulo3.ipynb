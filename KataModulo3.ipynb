{
 "cells": [
  {
   "cell_type": "markdown",
   "metadata": {},
   "source": [
    "e1"
   ]
  },
  {
   "cell_type": "code",
   "execution_count": 1,
   "metadata": {},
   "outputs": [
    {
     "name": "stdout",
     "output_type": "stream",
     "text": [
      "un asteroide se aproxima a gran velocidad\n"
     ]
    }
   ],
   "source": [
    "#velocidad del asteroide\n",
    "\n",
    "velocityAsteroide = 49\n",
    "\n",
    "if velocityAsteroide > 25:\n",
    "    print('un asteroide se aproxima a gran velocidad')\n",
    "else:\n",
    "    print('Aqui no ha pasado nada')"
   ]
  },
  {
   "cell_type": "markdown",
   "metadata": {},
   "source": [
    "ejercicio 2"
   ]
  },
  {
   "cell_type": "code",
   "execution_count": 2,
   "metadata": {},
   "outputs": [
    {
     "name": "stdout",
     "output_type": "stream",
     "text": [
      "no hay eventos en este momento\n"
     ]
    }
   ],
   "source": [
    "velocidadAsteroid = 19\n",
    "\n",
    "if velocidadAsteroid > 20:\n",
    "    print('se esta produciendo un rayo de luz')\n",
    "elif velocidadAsteroid == 20:\n",
    "    print('se esta produciendo un rayo de luz')\n",
    "else:\n",
    "    print('no hay eventos en este momento')"
   ]
  },
  {
   "cell_type": "code",
   "execution_count": 4,
   "metadata": {},
   "outputs": [
    {
     "name": "stdout",
     "output_type": "stream",
     "text": [
      "se aproxima un pequeno asteroride a gran velocidad\n"
     ]
    }
   ],
   "source": [
    "volumenAsteroide = 20\n",
    "velocidadAsteroide = 90\n",
    "\n",
    "if volumenAsteroide > 25 and volumenAsteroide < 1000 and velocidadAsteroide > 25:\n",
    "    print('Se aproxima un gran asteriode a gran velocidad')\n",
    "elif(volumenAsteroide < 25 and velocidadAsteroide > 25 ):\n",
    "    print('se aproxima un pequeno asteroride a gran velocidad')\n",
    "elif(volumenAsteroide < 25 and velocidadAsteroide >= 20 and velocidadAsteroide < 25):\n",
    "    print('se esta produciendo un rayo de luz en el cielo')\n",
    "else:\n",
    "    print('todo ok')\n"
   ]
  }
 ],
 "metadata": {
  "interpreter": {
   "hash": "285100b1667c6067fb28b956dfab906bfec4b8f5e9def93a5a1af4d58121e363"
  },
  "kernelspec": {
   "display_name": "Python 3.10.2 64-bit",
   "language": "python",
   "name": "python3"
  },
  "language_info": {
   "codemirror_mode": {
    "name": "ipython",
    "version": 3
   },
   "file_extension": ".py",
   "mimetype": "text/x-python",
   "name": "python",
   "nbconvert_exporter": "python",
   "pygments_lexer": "ipython3",
   "version": "3.10.2"
  },
  "orig_nbformat": 4
 },
 "nbformat": 4,
 "nbformat_minor": 2
}
